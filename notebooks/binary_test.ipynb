{
 "cells": [
  {
   "cell_type": "code",
   "execution_count": null,
   "metadata": {},
   "outputs": [],
   "source": [
    "import pandas as pd\n",
    "import numpy as np\n",
    "import os\n",
    "import sys\n",
    "\n",
    "from sklearn.datasets import make_classification\n",
    "\n",
    "from sklearn.datasets import load_breast_cancer\n",
    "\n",
    "sys.path.append(os.path.join(os.pardir))\n",
    "from functions import *\n",
    "from model_tuner import *"
   ]
  },
  {
   "cell_type": "code",
   "execution_count": null,
   "metadata": {},
   "outputs": [],
   "source": [
    "bc = load_breast_cancer(as_frame=True)[\"frame\"]"
   ]
  },
  {
   "cell_type": "code",
   "execution_count": null,
   "metadata": {},
   "outputs": [],
   "source": [
    "bc_cols = [cols for cols in bc.columns if \"target\" not in cols]"
   ]
  },
  {
   "cell_type": "code",
   "execution_count": null,
   "metadata": {},
   "outputs": [],
   "source": [
    "X = bc[bc_cols]"
   ]
  },
  {
   "cell_type": "code",
   "execution_count": null,
   "metadata": {},
   "outputs": [],
   "source": [
    "y = bc[\"target\"]"
   ]
  },
  {
   "cell_type": "code",
   "execution_count": null,
   "metadata": {},
   "outputs": [],
   "source": [
    "from sklearn.linear_model import LogisticRegression\n",
    "\n",
    "\n",
    "lr = LogisticRegression(class_weight=\"balanced\", max_iter=1000)\n",
    "\n",
    "estimator_name = \"lg\"\n",
    "# Set the parameters by cross-validation\n",
    "tuned_parameters = [\n",
    "    {\n",
    "        estimator_name + \"__C\": np.logspace(-4, 0, 3),\n",
    "        \"selectKBest__k\": [5, 10, 11, 12, 13, 8, 6, 9, 20],\n",
    "    }\n",
    "]"
   ]
  },
  {
   "cell_type": "code",
   "execution_count": null,
   "metadata": {},
   "outputs": [],
   "source": [
    "kfold = False\n",
    "calibrate = False\n",
    "\n",
    "# X_train, X_test, y_train, y_test = train_test_split(X, y, test_size=0.2)\n",
    "\n",
    "model = Model(\n",
    "    name=\"Logistic Regression\",\n",
    "    estimator_name=estimator_name,\n",
    "    calibrate=calibrate,\n",
    "    estimator=lr,\n",
    "    kfold=kfold,\n",
    "    stratify_y=True,\n",
    "    grid=tuned_parameters,\n",
    "    randomized_grid=True,\n",
    "    n_iter=40,\n",
    "    scoring=[\"roc_auc\"],\n",
    "    n_splits=10,\n",
    "    selectKBest=True,\n",
    "    n_jobs=-2,\n",
    "    random_state=42,\n",
    ")\n",
    "\n",
    "\n",
    "model.grid_search_param_tuning(X, y)\n",
    "\n",
    "X_train, y_train = model.get_train_data(X, y)\n",
    "X_test, y_test = model.get_test_data(X, y)\n",
    "X_valid, y_valid = model.get_valid_data(X, y)\n",
    "\n",
    "model.fit(X_train, y_train)\n",
    "\n",
    "print(\"Validation Metrics\")\n",
    "model.return_metrics(X_valid, y_valid)\n",
    "print(\"Test Metrics\")\n",
    "model.return_metrics(X_test, y_test)\n",
    "\n",
    "y_prob = model.predict_proba(X_test)\n",
    "\n",
    "### F1 Weighted\n",
    "y_pred = model.predict(X_test, optimal_threshold=True)"
   ]
  },
  {
   "cell_type": "code",
   "execution_count": null,
   "metadata": {},
   "outputs": [],
   "source": [
    "y_pred"
   ]
  },
  {
   "cell_type": "code",
   "execution_count": null,
   "metadata": {},
   "outputs": [],
   "source": [
    "y_prob"
   ]
  },
  {
   "cell_type": "code",
   "execution_count": null,
   "metadata": {},
   "outputs": [],
   "source": []
  }
 ],
 "metadata": {
  "kernelspec": {
   "display_name": "xgboost",
   "language": "python",
   "name": "python3"
  },
  "language_info": {
   "codemirror_mode": {
    "name": "ipython",
    "version": 3
   },
   "file_extension": ".py",
   "mimetype": "text/x-python",
   "name": "python",
   "nbconvert_exporter": "python",
   "pygments_lexer": "ipython3",
   "version": "3.11.9"
  }
 },
 "nbformat": 4,
 "nbformat_minor": 2
}
