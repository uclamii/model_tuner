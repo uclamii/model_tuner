{
 "cells": [
  {
   "cell_type": "code",
   "execution_count": 1,
   "metadata": {},
   "outputs": [],
   "source": [
    "import pandas as pd\n",
    "import numpy as np\n",
    "import os\n",
    "import sys\n",
    "\n",
    "sys.path.append(os.path.join(os.pardir))\n",
    "\n",
    "from functions import *\n",
    "from model_tuner import *\n",
    "from sklearn.linear_model import Lasso, Ridge, SGDRegressor, ElasticNet\n",
    "\n",
    "from xgboost import XGBRegressor"
   ]
  },
  {
   "cell_type": "code",
   "execution_count": 2,
   "metadata": {},
   "outputs": [
    {
     "name": "stdout",
     "output_type": "stream",
     "text": [
      "Directory exists: ../data\n"
     ]
    }
   ],
   "source": [
    "# `base_path`` represents the parent directory of your current working directory\n",
    "base_path = os.path.join(os.pardir)\n",
    "\n",
    "# Go up one level from 'notebooks' to the parent directory, then into the 'data' folder\n",
    "data_path = os.path.join(\"../data\")\n",
    "\n",
    "# Use the function to ensure the 'data' directory exists\n",
    "ensure_directory(data_path)"
   ]
  },
  {
   "cell_type": "code",
   "execution_count": 3,
   "metadata": {},
   "outputs": [],
   "source": [
    "df = pd.read_csv(os.path.join(data_path, \"redfin_2024-04-16-15-59-17.csv\"))"
   ]
  },
  {
   "cell_type": "code",
   "execution_count": 4,
   "metadata": {},
   "outputs": [],
   "source": [
    "df = df.drop(df.index[0])"
   ]
  },
  {
   "cell_type": "code",
   "execution_count": 5,
   "metadata": {},
   "outputs": [],
   "source": [
    "X = df[[\"BEDS\", \"BATHS\", \"SQUARE FEET\", \"LOT SIZE\"]]\n",
    "y = df[[\"PRICE\"]]"
   ]
  },
  {
   "cell_type": "code",
   "execution_count": 6,
   "metadata": {},
   "outputs": [],
   "source": [
    "# Define the set of hyperparameters to tune\n",
    "parameters_lasso = [\n",
    "    {\n",
    "        \"lasso__alpha\": [0.01, 0.05, 0.1, 0.5, 1.0, 2.0, 5.0, 10.0],\n",
    "        \"lasso__fit_intercept\": [True, False],\n",
    "        \"lasso__precompute\": [False],\n",
    "        \"lasso__copy_X\": [True, False],\n",
    "        \"lasso__max_iter\": [100, 500],\n",
    "        \"lasso__tol\": [1e-4, 1e-3],\n",
    "        \"lasso__warm_start\": [True, False],\n",
    "        \"lasso__positive\": [True, False],\n",
    "    }\n",
    "]"
   ]
  },
  {
   "cell_type": "markdown",
   "metadata": {},
   "source": [
    "## Lasso"
   ]
  },
  {
   "cell_type": "code",
   "execution_count": null,
   "metadata": {},
   "outputs": [],
   "source": [
    "lasso_reg = Lasso()\n",
    "\n",
    "estimator_name = \"lasso\"\n",
    "# Set the parameters by cross-validation\n",
    "\n",
    "kfold = False\n",
    "calibrate = False"
   ]
  },
  {
   "cell_type": "code",
   "execution_count": null,
   "metadata": {},
   "outputs": [],
   "source": [
    "model1 = Model(\n",
    "    name=\"Redfin_model\",\n",
    "    estimator_name=estimator_name,\n",
    "    model_type=\"regression\",\n",
    "    calibrate=calibrate,\n",
    "    estimator=lasso_reg,\n",
    "    kfold=kfold,\n",
    "    stratify=True,\n",
    "    grid=parameters_lasso,\n",
    "    randomized_grid=False,\n",
    "    impute=True,\n",
    "    # n_iter=3,\n",
    "    scoring=[\"r2\"],\n",
    "    # n_splits=2,\n",
    "    random_state=3,\n",
    ")\n",
    "\n",
    "model1.grid_search_param_tuning(X, y)\n",
    "\n",
    "model1.fit(X, y)"
   ]
  },
  {
   "cell_type": "code",
   "execution_count": null,
   "metadata": {},
   "outputs": [],
   "source": [
    "X_train, X_test, y_train, y_test = train_test_split(X, y, random_state=3)"
   ]
  },
  {
   "cell_type": "code",
   "execution_count": null,
   "metadata": {},
   "outputs": [],
   "source": [
    "model1.predict(X_test)"
   ]
  },
  {
   "cell_type": "markdown",
   "metadata": {},
   "source": [
    "## Ridge Regression"
   ]
  },
  {
   "cell_type": "code",
   "execution_count": null,
   "metadata": {},
   "outputs": [],
   "source": [
    "ridge_reg = Ridge()\n",
    "\n",
    "estimator_name = \"ridge\"\n",
    "# Set the parameters by cross-validation\n",
    "\n",
    "kfold = False\n",
    "calibrate = False"
   ]
  },
  {
   "cell_type": "code",
   "execution_count": null,
   "metadata": {},
   "outputs": [],
   "source": [
    "model2 = Model(\n",
    "    name=\"Redfin_model\",\n",
    "    estimator_name=estimator_name,\n",
    "    model_type=\"regression\",\n",
    "    calibrate=calibrate,\n",
    "    estimator=ridge_reg,\n",
    "    kfold=kfold,\n",
    "    stratify=True,\n",
    "    grid=[],\n",
    "    randomized_grid=False,\n",
    "    impute=True,\n",
    "    # n_iter=3,\n",
    "    scoring=[\"r2\"],\n",
    "    # n_splits=2,\n",
    "    random_state=3,\n",
    ")\n",
    "\n",
    "# model.grid_search_param_tuning(X, y)\n",
    "\n",
    "model2.fit(X, y)"
   ]
  },
  {
   "cell_type": "code",
   "execution_count": null,
   "metadata": {},
   "outputs": [],
   "source": [
    "model2.predict(X_test)"
   ]
  },
  {
   "cell_type": "markdown",
   "metadata": {},
   "source": [
    "### SGD Regressor"
   ]
  },
  {
   "cell_type": "code",
   "execution_count": null,
   "metadata": {},
   "outputs": [],
   "source": [
    "sgd_reg = SGDRegressor(random_state=3)\n",
    "\n",
    "estimator_name = \"sgdregressor\"\n",
    "# Set the parameters by cross-validation\n",
    "\n",
    "kfold = False\n",
    "calibrate = False"
   ]
  },
  {
   "cell_type": "code",
   "execution_count": null,
   "metadata": {},
   "outputs": [],
   "source": [
    "parameters_sgd = [\n",
    "    {\n",
    "        \"sgdregressor__loss\": [\n",
    "            \"squared_error\",\n",
    "            \"huber\",\n",
    "            \"epsilon_insensitive\",\n",
    "            \"squared_epsilon_insensitive\",\n",
    "        ],\n",
    "        \"sgdregressor__penalty\": [None, \"l2\", \"l1\", \"elasticnet\"][:1],\n",
    "        \"sgdregressor__alpha\": [0.0001, 0.001, 0.01, 0.1][:1],\n",
    "        \"sgdregressor__l1_ratio\": [\n",
    "            0.15,\n",
    "            0.25,\n",
    "            0.5,\n",
    "            0.75,\n",
    "        ][\n",
    "            :1\n",
    "        ],  # Only used if penalty is 'elasticnet'\n",
    "        \"sgdregressor__fit_intercept\": [True, False][:1],\n",
    "        \"sgdregressor__max_iter\": [1000, 2000, 3000][:1],\n",
    "        \"sgdregressor__tol\": [1e-3, 1e-4][:1],\n",
    "        \"sgdregressor__epsilon\": [\n",
    "            0.1,\n",
    "            0.2,\n",
    "        ],  # Only used for 'huber' and 'epsilon_insensitive'\n",
    "        \"sgdregressor__learning_rate\": [\n",
    "            \"constant\",\n",
    "            \"optimal\",\n",
    "            \"invscaling\",\n",
    "            \"adaptive\",\n",
    "        ][:1],\n",
    "        \"sgdregressor__eta0\": [\n",
    "            0.01,\n",
    "            0.1,\n",
    "        ][\n",
    "            :1\n",
    "        ],  # Initial learning rate (used when learning_rate is 'constant', 'invscaling', or 'adaptive')\n",
    "        \"sgdregressor__power_t\": [\n",
    "            0.25,\n",
    "            0.5,\n",
    "        ][\n",
    "            :1\n",
    "        ],  # The exponent for inverse scaling learning rate\n",
    "        \"sgdregressor__early_stopping\": [True, False][:1],\n",
    "        \"sgdregressor__validation_fraction\": [\n",
    "            0.1,\n",
    "            0.2,\n",
    "        ][\n",
    "            :1\n",
    "        ],  # The proportion of training data to set aside as validation set for early stopping\n",
    "        \"sgdregressor__n_iter_no_change\": [\n",
    "            5,\n",
    "            10,\n",
    "        ][\n",
    "            :1\n",
    "        ],  # Number of iterations with no improvement to wait before stopping\n",
    "        \"sgdregressor__warm_start\": [True, False][:1],\n",
    "        \"sgdregressor__average\": [\n",
    "            False,\n",
    "            True,\n",
    "            10,\n",
    "        ][\n",
    "            :1\n",
    "        ],  # Whether to average over some number of last updates\n",
    "    }\n",
    "]"
   ]
  },
  {
   "cell_type": "code",
   "execution_count": null,
   "metadata": {},
   "outputs": [],
   "source": [
    "model3 = Model(\n",
    "    name=\"Redfin_model\",\n",
    "    estimator_name=estimator_name,\n",
    "    model_type=\"regression\",\n",
    "    calibrate=calibrate,\n",
    "    estimator=sgd_reg,\n",
    "    kfold=kfold,\n",
    "    stratify=True,\n",
    "    grid=parameters_sgd,\n",
    "    randomized_grid=False,\n",
    "    impute=True,\n",
    "    # n_iter=3,\n",
    "    scoring=[\"r2\"],\n",
    "    # n_splits=2,\n",
    "    random_state=3,\n",
    ")\n",
    "\n",
    "model3.grid_search_param_tuning(X, y)\n",
    "\n",
    "model3.fit(X, y)"
   ]
  },
  {
   "cell_type": "code",
   "execution_count": null,
   "metadata": {},
   "outputs": [],
   "source": [
    "model3.predict(X_test)"
   ]
  },
  {
   "cell_type": "markdown",
   "metadata": {},
   "source": [
    "## ElasticNet"
   ]
  },
  {
   "cell_type": "code",
   "execution_count": null,
   "metadata": {},
   "outputs": [],
   "source": [
    "elastic_net = ElasticNet(random_state=3)\n",
    "\n",
    "estimator_name = \"elasticnet\"\n",
    "# Set the parameters by cross-validation\n",
    "\n",
    "kfold = False\n",
    "calibrate = False"
   ]
  },
  {
   "cell_type": "code",
   "execution_count": null,
   "metadata": {},
   "outputs": [],
   "source": [
    "elastic_net"
   ]
  },
  {
   "cell_type": "code",
   "execution_count": null,
   "metadata": {},
   "outputs": [],
   "source": [
    "# Define the set of hyperparameters to tune\n",
    "parameters_enet = [\n",
    "    {\n",
    "        \"elasticnet__alpha\": [0.01, 0.05, 0.1, 0.5, 1.0, 2.0, 5.0, 10.0],\n",
    "        \"elasticnet__l1_ratio\": [0.1, 0.2, 0.3, 0.5, 0.7, 0.8, 0.9, 1],\n",
    "        \"elasticnet__fit_intercept\": [True, False],\n",
    "        \"elasticnet__precompute\": [\n",
    "            False\n",
    "        ],  # Typically False when using cv, as not all solvers support it\n",
    "        \"elasticnet__copy_X\": [True, False],\n",
    "        \"elasticnet__max_iter\": [\n",
    "            100,\n",
    "            500,\n",
    "            1000,\n",
    "        ],  # Elastic Net might require more i`terations\n",
    "        \"elasticnet__tol\": [1e-4, 1e-3],\n",
    "        \"elasticnet__warm_start\": [True, False],\n",
    "        \"elasticnet__positive\": [True, False],\n",
    "        \"elasticnet__selection\": [\n",
    "            \"cyclic\",\n",
    "            \"random\",\n",
    "        ],  # Option to choose the type of feature selection\n",
    "    }\n",
    "]"
   ]
  },
  {
   "cell_type": "code",
   "execution_count": null,
   "metadata": {},
   "outputs": [],
   "source": [
    "model4 = Model(\n",
    "    name=\"Redfin_model\",\n",
    "    estimator_name=estimator_name,\n",
    "    model_type=\"regression\",\n",
    "    calibrate=calibrate,\n",
    "    estimator=elastic_net,\n",
    "    kfold=kfold,\n",
    "    stratify=True,\n",
    "    grid=parameters_enet,\n",
    "    randomized_grid=False,\n",
    "    impute=True,\n",
    "    # n_iter=3,\n",
    "    scoring=[\"r2\"],\n",
    "    # n_splits=2,\n",
    "    random_state=3,\n",
    ")\n",
    "\n",
    "model4.grid_search_param_tuning(X, y)\n",
    "\n",
    "model4.fit(X, y)"
   ]
  },
  {
   "cell_type": "code",
   "execution_count": null,
   "metadata": {},
   "outputs": [],
   "source": [
    "model4.predict(X_test)"
   ]
  },
  {
   "cell_type": "markdown",
   "metadata": {},
   "source": [
    "## XGBoost"
   ]
  },
  {
   "cell_type": "code",
   "execution_count": 7,
   "metadata": {},
   "outputs": [],
   "source": [
    "xg_boost = XGBRegressor(random_state=3)\n",
    "\n",
    "estimator_name = \"xgb\"\n",
    "# Set the parameters by cross-validation\n",
    "\n",
    "kfold = False\n",
    "calibrate = False"
   ]
  },
  {
   "cell_type": "code",
   "execution_count": 8,
   "metadata": {},
   "outputs": [
    {
     "data": {
      "text/html": [
       "<style>#sk-container-id-1 {color: black;}#sk-container-id-1 pre{padding: 0;}#sk-container-id-1 div.sk-toggleable {background-color: white;}#sk-container-id-1 label.sk-toggleable__label {cursor: pointer;display: block;width: 100%;margin-bottom: 0;padding: 0.3em;box-sizing: border-box;text-align: center;}#sk-container-id-1 label.sk-toggleable__label-arrow:before {content: \"▸\";float: left;margin-right: 0.25em;color: #696969;}#sk-container-id-1 label.sk-toggleable__label-arrow:hover:before {color: black;}#sk-container-id-1 div.sk-estimator:hover label.sk-toggleable__label-arrow:before {color: black;}#sk-container-id-1 div.sk-toggleable__content {max-height: 0;max-width: 0;overflow: hidden;text-align: left;background-color: #f0f8ff;}#sk-container-id-1 div.sk-toggleable__content pre {margin: 0.2em;color: black;border-radius: 0.25em;background-color: #f0f8ff;}#sk-container-id-1 input.sk-toggleable__control:checked~div.sk-toggleable__content {max-height: 200px;max-width: 100%;overflow: auto;}#sk-container-id-1 input.sk-toggleable__control:checked~label.sk-toggleable__label-arrow:before {content: \"▾\";}#sk-container-id-1 div.sk-estimator input.sk-toggleable__control:checked~label.sk-toggleable__label {background-color: #d4ebff;}#sk-container-id-1 div.sk-label input.sk-toggleable__control:checked~label.sk-toggleable__label {background-color: #d4ebff;}#sk-container-id-1 input.sk-hidden--visually {border: 0;clip: rect(1px 1px 1px 1px);clip: rect(1px, 1px, 1px, 1px);height: 1px;margin: -1px;overflow: hidden;padding: 0;position: absolute;width: 1px;}#sk-container-id-1 div.sk-estimator {font-family: monospace;background-color: #f0f8ff;border: 1px dotted black;border-radius: 0.25em;box-sizing: border-box;margin-bottom: 0.5em;}#sk-container-id-1 div.sk-estimator:hover {background-color: #d4ebff;}#sk-container-id-1 div.sk-parallel-item::after {content: \"\";width: 100%;border-bottom: 1px solid gray;flex-grow: 1;}#sk-container-id-1 div.sk-label:hover label.sk-toggleable__label {background-color: #d4ebff;}#sk-container-id-1 div.sk-serial::before {content: \"\";position: absolute;border-left: 1px solid gray;box-sizing: border-box;top: 0;bottom: 0;left: 50%;z-index: 0;}#sk-container-id-1 div.sk-serial {display: flex;flex-direction: column;align-items: center;background-color: white;padding-right: 0.2em;padding-left: 0.2em;position: relative;}#sk-container-id-1 div.sk-item {position: relative;z-index: 1;}#sk-container-id-1 div.sk-parallel {display: flex;align-items: stretch;justify-content: center;background-color: white;position: relative;}#sk-container-id-1 div.sk-item::before, #sk-container-id-1 div.sk-parallel-item::before {content: \"\";position: absolute;border-left: 1px solid gray;box-sizing: border-box;top: 0;bottom: 0;left: 50%;z-index: -1;}#sk-container-id-1 div.sk-parallel-item {display: flex;flex-direction: column;z-index: 1;position: relative;background-color: white;}#sk-container-id-1 div.sk-parallel-item:first-child::after {align-self: flex-end;width: 50%;}#sk-container-id-1 div.sk-parallel-item:last-child::after {align-self: flex-start;width: 50%;}#sk-container-id-1 div.sk-parallel-item:only-child::after {width: 0;}#sk-container-id-1 div.sk-dashed-wrapped {border: 1px dashed gray;margin: 0 0.4em 0.5em 0.4em;box-sizing: border-box;padding-bottom: 0.4em;background-color: white;}#sk-container-id-1 div.sk-label label {font-family: monospace;font-weight: bold;display: inline-block;line-height: 1.2em;}#sk-container-id-1 div.sk-label-container {text-align: center;}#sk-container-id-1 div.sk-container {/* jupyter's `normalize.less` sets `[hidden] { display: none; }` but bootstrap.min.css set `[hidden] { display: none !important; }` so we also need the `!important` here to be able to override the default hidden behavior on the sphinx rendered scikit-learn.org. See: https://github.com/scikit-learn/scikit-learn/issues/21755 */display: inline-block !important;position: relative;}#sk-container-id-1 div.sk-text-repr-fallback {display: none;}</style><div id=\"sk-container-id-1\" class=\"sk-top-container\"><div class=\"sk-text-repr-fallback\"><pre>XGBRegressor(base_score=None, booster=None, callbacks=None,\n",
       "             colsample_bylevel=None, colsample_bynode=None,\n",
       "             colsample_bytree=None, device=None, early_stopping_rounds=None,\n",
       "             enable_categorical=False, eval_metric=None, feature_types=None,\n",
       "             gamma=None, grow_policy=None, importance_type=None,\n",
       "             interaction_constraints=None, learning_rate=None, max_bin=None,\n",
       "             max_cat_threshold=None, max_cat_to_onehot=None,\n",
       "             max_delta_step=None, max_depth=None, max_leaves=None,\n",
       "             min_child_weight=None, missing=nan, monotone_constraints=None,\n",
       "             multi_strategy=None, n_estimators=None, n_jobs=None,\n",
       "             num_parallel_tree=None, random_state=3, ...)</pre><b>In a Jupyter environment, please rerun this cell to show the HTML representation or trust the notebook. <br />On GitHub, the HTML representation is unable to render, please try loading this page with nbviewer.org.</b></div><div class=\"sk-container\" hidden><div class=\"sk-item\"><div class=\"sk-estimator sk-toggleable\"><input class=\"sk-toggleable__control sk-hidden--visually\" id=\"sk-estimator-id-1\" type=\"checkbox\" checked><label for=\"sk-estimator-id-1\" class=\"sk-toggleable__label sk-toggleable__label-arrow\">XGBRegressor</label><div class=\"sk-toggleable__content\"><pre>XGBRegressor(base_score=None, booster=None, callbacks=None,\n",
       "             colsample_bylevel=None, colsample_bynode=None,\n",
       "             colsample_bytree=None, device=None, early_stopping_rounds=None,\n",
       "             enable_categorical=False, eval_metric=None, feature_types=None,\n",
       "             gamma=None, grow_policy=None, importance_type=None,\n",
       "             interaction_constraints=None, learning_rate=None, max_bin=None,\n",
       "             max_cat_threshold=None, max_cat_to_onehot=None,\n",
       "             max_delta_step=None, max_depth=None, max_leaves=None,\n",
       "             min_child_weight=None, missing=nan, monotone_constraints=None,\n",
       "             multi_strategy=None, n_estimators=None, n_jobs=None,\n",
       "             num_parallel_tree=None, random_state=3, ...)</pre></div></div></div></div></div>"
      ],
      "text/plain": [
       "XGBRegressor(base_score=None, booster=None, callbacks=None,\n",
       "             colsample_bylevel=None, colsample_bynode=None,\n",
       "             colsample_bytree=None, device=None, early_stopping_rounds=None,\n",
       "             enable_categorical=False, eval_metric=None, feature_types=None,\n",
       "             gamma=None, grow_policy=None, importance_type=None,\n",
       "             interaction_constraints=None, learning_rate=None, max_bin=None,\n",
       "             max_cat_threshold=None, max_cat_to_onehot=None,\n",
       "             max_delta_step=None, max_depth=None, max_leaves=None,\n",
       "             min_child_weight=None, missing=nan, monotone_constraints=None,\n",
       "             multi_strategy=None, n_estimators=None, n_jobs=None,\n",
       "             num_parallel_tree=None, random_state=3, ...)"
      ]
     },
     "execution_count": 8,
     "metadata": {},
     "output_type": "execute_result"
    }
   ],
   "source": [
    "xg_boost"
   ]
  },
  {
   "cell_type": "code",
   "execution_count": 21,
   "metadata": {},
   "outputs": [],
   "source": [
    "# Define the hyperparameters for XGBoost\n",
    "xgb_learning_rates = [0.1, 0.01, 0.05][:1]  # Learning rate or eta\n",
    "xgb_n_estimators = [100, 200, 300][\n",
    "    :1\n",
    "]  # Number of trees. Equivalent to n_estimators in GB\n",
    "xgb_max_depths = [3, 5, 7][:1]  # Maximum depth of the trees\n",
    "xgb_subsamples = [0.8, 1.0][:1]  # Subsample ratio of the training instances\n",
    "xgb_colsample_bytree = [0.8, 1.0][:1]\n",
    "xgb_eval_metric = [\"logloss\"]\n",
    "xgb_early_stopping_rounds = [10]\n",
    "# xgb_tree_method = [\"gpu_hist\"]\n",
    "# early_stopping_mode = ['min']\n",
    "# early_stopping_patience = [5]\n",
    "xgb_verbose = [False]\n",
    "# Subsample ratio of columns when constructing each tree\n",
    "\n",
    "# Combining the hyperparameters in a dictionary\n",
    "xgb_parameters = [\n",
    "    {\n",
    "        \"xgb__learning_rate\": xgb_learning_rates,\n",
    "        \"xgb__n_estimators\": xgb_n_estimators,\n",
    "        \"xgb__max_depth\": xgb_max_depths,\n",
    "        \"xgb__subsample\": xgb_subsamples,\n",
    "        \"xgb__colsample_bytree\": xgb_colsample_bytree,\n",
    "        \"xgb__eval_metric\": xgb_eval_metric,\n",
    "        \"xgb__early_stopping_rounds\": xgb_early_stopping_rounds,\n",
    "        # 'xgb__early_stopping_patience': early_stopping_patience,\n",
    "        # \"xgb_tree_method\": xgb_tree_method,\n",
    "        \"xgb__verbose\": xgb_verbose,\n",
    "    }\n",
    "]"
   ]
  },
  {
   "cell_type": "code",
   "execution_count": 22,
   "metadata": {},
   "outputs": [
    {
     "name": "stderr",
     "output_type": "stream",
     "text": [
      "  0%|          | 0/1 [00:00<?, ?it/s]c:\\Users\\lshpaner\\miniconda3\\envs\\custom_conda\\lib\\site-packages\\xgboost\\core.py:160: UserWarning: [17:19:40] WARNING: C:\\buildkite-agent\\builds\\buildkite-windows-cpu-autoscaling-group-i-0b3782d1791676daf-1\\xgboost\\xgboost-ci-windows\\src\\learner.cc:742: \n",
      "Parameters: { \"verbose\" } are not used.\n",
      "\n",
      "  warnings.warn(smsg, UserWarning)\n",
      "100%|██████████| 1/1 [00:00<00:00, 15.79it/s]"
     ]
    },
    {
     "name": "stdout",
     "output_type": "stream",
     "text": [
      "Best score/param set found on validation set:\n",
      "{'params': {'xgb__colsample_bytree': 0.8,\n",
      "            'xgb__early_stopping_rounds': 10,\n",
      "            'xgb__eval_metric': 'logloss',\n",
      "            'xgb__learning_rate': 0.1,\n",
      "            'xgb__max_depth': 3,\n",
      "            'xgb__n_estimators': 100,\n",
      "            'xgb__subsample': 0.8,\n",
      "            'xgb__verbose': False},\n",
      " 'score': 0.6382496179453679}\n",
      "Best r2: 0.638 \n",
      "\n"
     ]
    },
    {
     "name": "stderr",
     "output_type": "stream",
     "text": [
      "\n",
      "c:\\Users\\lshpaner\\miniconda3\\envs\\custom_conda\\lib\\site-packages\\xgboost\\core.py:160: UserWarning: [17:19:40] WARNING: C:\\buildkite-agent\\builds\\buildkite-windows-cpu-autoscaling-group-i-0b3782d1791676daf-1\\xgboost\\xgboost-ci-windows\\src\\learner.cc:742: \n",
      "Parameters: { \"verbose\" } are not used.\n",
      "\n",
      "  warnings.warn(smsg, UserWarning)\n"
     ]
    }
   ],
   "source": [
    "model4 = Model(\n",
    "    name=\"Redfin_model\",\n",
    "    estimator_name=estimator_name,\n",
    "    model_type=\"regression\",\n",
    "    calibrate=calibrate,\n",
    "    estimator=xg_boost,\n",
    "    kfold=kfold,\n",
    "    stratify=True,\n",
    "    grid=xgb_parameters,\n",
    "    randomized_grid=False,\n",
    "    impute=True,\n",
    "    # n_iter=3,\n",
    "    scoring=[\"r2\"],\n",
    "    # n_splits=2,\n",
    "    random_state=3,\n",
    "    xgboost_early=True,\n",
    ")\n",
    "\n",
    "eval_set = [X, y]\n",
    "model4.grid_search_param_tuning(X, y)\n",
    "\n",
    "X_valid, y_valid = model4.get_valid_data(X, y)\n",
    "\n",
    "model4.fit(X, y, validation_data=(X_valid, y_valid))"
   ]
  }
 ],
 "metadata": {
  "kernelspec": {
   "display_name": "model_tuner",
   "language": "python",
   "name": "python3"
  },
  "language_info": {
   "codemirror_mode": {
    "name": "ipython",
    "version": 3
   },
   "file_extension": ".py",
   "mimetype": "text/x-python",
   "name": "python",
   "nbconvert_exporter": "python",
   "pygments_lexer": "ipython3",
   "version": "3.8.3"
  }
 },
 "nbformat": 4,
 "nbformat_minor": 2
}
