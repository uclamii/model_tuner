{
 "cells": [
  {
   "cell_type": "code",
   "execution_count": null,
   "metadata": {},
   "outputs": [],
   "source": [
    "import pandas as pd\n",
    "import numpy as np\n",
    "import os\n",
    "import sys\n",
    "\n",
    "sys.path.append(os.path.join(os.pardir))\n",
    "\n",
    "from functions import *\n",
    "from model_tuner import *\n",
    "from sklearn.linear_model import Lasso, Ridge, SGDRegressor, ElasticNet\n",
    "\n",
    "from xgboost import XGBRegressor"
   ]
  },
  {
   "cell_type": "code",
   "execution_count": null,
   "metadata": {},
   "outputs": [],
   "source": [
    "# `base_path`` represents the parent directory of your current working directory\n",
    "base_path = os.path.join(os.pardir)\n",
    "\n",
    "# Go up one level from 'notebooks' to the parent directory, then into the 'data' folder\n",
    "data_path = os.path.join(\"../data\")\n",
    "\n",
    "# Use the function to ensure the 'data' directory exists\n",
    "ensure_directory(data_path)"
   ]
  },
  {
   "cell_type": "code",
   "execution_count": null,
   "metadata": {},
   "outputs": [],
   "source": [
    "df = pd.read_csv(os.path.join(data_path, \"redfin_2024-04-16-15-59-17.csv\"))"
   ]
  },
  {
   "cell_type": "code",
   "execution_count": null,
   "metadata": {},
   "outputs": [],
   "source": [
    "df = df.drop(df.index[0])"
   ]
  },
  {
   "cell_type": "code",
   "execution_count": null,
   "metadata": {},
   "outputs": [],
   "source": [
    "X = df[[\"BEDS\", \"BATHS\", \"SQUARE FEET\", \"LOT SIZE\"]]\n",
    "y = df[[\"PRICE\"]]"
   ]
  },
  {
   "cell_type": "code",
   "execution_count": null,
   "metadata": {},
   "outputs": [],
   "source": [
    "# Define the set of hyperparameters to tune\n",
    "parameters_lasso = [\n",
    "    {\n",
    "        \"lasso__alpha\": [0.01, 0.05, 0.1, 0.5, 1.0, 2.0, 5.0, 10.0],\n",
    "        \"lasso__fit_intercept\": [True, False],\n",
    "        \"lasso__precompute\": [False],\n",
    "        \"lasso__copy_X\": [True, False],\n",
    "        \"lasso__max_iter\": [100, 500, 1000, 2000],\n",
    "        \"lasso__tol\": [1e-4, 1e-3],\n",
    "        \"lasso__warm_start\": [True, False],\n",
    "        \"lasso__positive\": [True, False],\n",
    "    }\n",
    "]"
   ]
  },
  {
   "cell_type": "markdown",
   "metadata": {},
   "source": [
    "## Lasso"
   ]
  },
  {
   "cell_type": "code",
   "execution_count": null,
   "metadata": {},
   "outputs": [],
   "source": [
    "lasso_reg = Lasso()\n",
    "\n",
    "estimator_name = \"lasso\"\n",
    "# Set the parameters by cross-validation\n",
    "\n",
    "kfold = False\n",
    "calibrate = False"
   ]
  },
  {
   "cell_type": "code",
   "execution_count": null,
   "metadata": {},
   "outputs": [],
   "source": [
    "model1 = Model(\n",
    "    name=\"Redfin_model\",\n",
    "    estimator_name=estimator_name,\n",
    "    model_type=\"regression\",\n",
    "    calibrate=calibrate,\n",
    "    estimator=lasso_reg,\n",
    "    kfold=kfold,\n",
    "    stratify_y=False,\n",
    "    grid=parameters_lasso,\n",
    "    randomized_grid=False,\n",
    "    impute=True,\n",
    "    # n_iter=3,\n",
    "    scoring=[\"r2\"],\n",
    "    # n_splits=2,\n",
    "    random_state=3,\n",
    ")\n",
    "\n",
    "model1.grid_search_param_tuning(X, y)\n",
    "\n",
    "X_train, y_train = model1.get_train_data(X, y)\n",
    "X_test, y_test = model1.get_test_data(X, y)\n",
    "X_valid, y_valid = model1.get_valid_data(X, y)\n",
    "\n",
    "model1.fit(X_train, y_train)\n",
    "\n",
    "print(\"Validation Metrics\")\n",
    "model1.return_metrics(X_valid, y_valid)\n",
    "print(\"Test Metrics\")\n",
    "model1.return_metrics(X_test, y_test)"
   ]
  },
  {
   "cell_type": "markdown",
   "metadata": {},
   "source": [
    "## Ridge Regression"
   ]
  },
  {
   "cell_type": "code",
   "execution_count": null,
   "metadata": {},
   "outputs": [],
   "source": [
    "ridge_reg = Ridge()\n",
    "\n",
    "estimator_name = \"ridge\"\n",
    "# Set the parameters by cross-validation\n",
    "\n",
    "grid_search_params = {\n",
    "    f\"{estimator_name}__max_iter\": [100, 200, 500],\n",
    "    f\"{estimator_name}__alpha\": [0.1, 1, 0.5],\n",
    "    \"selectKBest__k\": [1, 2, 3],\n",
    "}\n",
    "\n",
    "kfold = False\n",
    "calibrate = False"
   ]
  },
  {
   "cell_type": "code",
   "execution_count": null,
   "metadata": {},
   "outputs": [],
   "source": [
    "import warnings\n",
    "\n",
    "from sklearn.exceptions import DataConversionWarning\n",
    "\n",
    "warnings.filterwarnings(action=\"ignore\", category=DataConversionWarning)"
   ]
  },
  {
   "cell_type": "code",
   "execution_count": null,
   "metadata": {},
   "outputs": [],
   "source": [
    "model2 = Model(\n",
    "    name=\"Redfin_model\",\n",
    "    estimator_name=estimator_name,\n",
    "    model_type=\"regression\",\n",
    "    calibrate=calibrate,\n",
    "    estimator=ridge_reg,\n",
    "    kfold=kfold,\n",
    "    selectKBest=True,\n",
    "    stratify_y=False,\n",
    "    grid=grid_search_params,\n",
    "    randomized_grid=False,\n",
    "    impute=True,\n",
    "    scoring=[\"r2\"],\n",
    "    n_splits=5,\n",
    "    random_state=3,\n",
    ")\n",
    "\n",
    "model2.grid_search_param_tuning(X, y)\n",
    "\n",
    "### If KFold then the whole dataset is fed to the\n",
    "### return metrics function\n",
    "model2.fit(X, y)\n",
    "model2.return_metrics(X, y)"
   ]
  },
  {
   "cell_type": "code",
   "execution_count": null,
   "metadata": {},
   "outputs": [],
   "source": [
    "model2.predict(X_test)"
   ]
  },
  {
   "cell_type": "markdown",
   "metadata": {},
   "source": [
    "### SGD Regressor"
   ]
  },
  {
   "cell_type": "code",
   "execution_count": null,
   "metadata": {},
   "outputs": [],
   "source": [
    "sgd_reg = SGDRegressor(random_state=3)\n",
    "\n",
    "estimator_name = \"sgdregressor\"\n",
    "# Set the parameters by cross-validation\n",
    "\n",
    "kfold = False\n",
    "calibrate = False"
   ]
  },
  {
   "cell_type": "code",
   "execution_count": null,
   "metadata": {},
   "outputs": [],
   "source": [
    "parameters_sgd = [\n",
    "    {\n",
    "        \"sgdregressor__loss\": [\n",
    "            \"squared_error\",\n",
    "            \"huber\",\n",
    "            \"epsilon_insensitive\",\n",
    "            \"squared_epsilon_insensitive\",\n",
    "        ],\n",
    "        \"sgdregressor__penalty\": [None, \"l2\", \"l1\", \"elasticnet\"][:1],\n",
    "        \"sgdregressor__alpha\": [0.0001, 0.001, 0.01, 0.1][:1],\n",
    "        \"sgdregressor__l1_ratio\": [\n",
    "            0.15,\n",
    "            0.25,\n",
    "            0.5,\n",
    "            0.75,\n",
    "        ][\n",
    "            :1\n",
    "        ],  # Only used if penalty is 'elasticnet'\n",
    "        \"sgdregressor__fit_intercept\": [True, False][:1],\n",
    "        \"sgdregressor__max_iter\": [1000, 2000, 3000][:1],\n",
    "        \"sgdregressor__tol\": [1e-3, 1e-4][:1],\n",
    "        \"sgdregressor__epsilon\": [\n",
    "            0.1,\n",
    "            0.2,\n",
    "        ],  # Only used for 'huber' and 'epsilon_insensitive'\n",
    "        \"sgdregressor__learning_rate\": [\n",
    "            \"constant\",\n",
    "            \"optimal\",\n",
    "            \"invscaling\",\n",
    "            \"adaptive\",\n",
    "        ][:1],\n",
    "        \"sgdregressor__eta0\": [\n",
    "            0.01,\n",
    "            0.1,\n",
    "        ][:1],\n",
    "        \"sgdregressor__power_t\": [\n",
    "            0.25,\n",
    "            0.5,\n",
    "        ][:1],\n",
    "        \"sgdregressor__early_stopping\": [True, False][:1],\n",
    "        \"sgdregressor__validation_fraction\": [\n",
    "            0.1,\n",
    "            0.2,\n",
    "        ][:1],\n",
    "        \"sgdregressor__n_iter_no_change\": [\n",
    "            5,\n",
    "            10,\n",
    "        ][:1],\n",
    "        \"sgdregressor__warm_start\": [True, False][:1],\n",
    "        \"sgdregressor__average\": [\n",
    "            False,\n",
    "            True,\n",
    "            10,\n",
    "        ][:1],\n",
    "    }\n",
    "]"
   ]
  },
  {
   "cell_type": "code",
   "execution_count": null,
   "metadata": {},
   "outputs": [],
   "source": [
    "model3 = Model(\n",
    "    name=\"Redfin_model\",\n",
    "    estimator_name=estimator_name,\n",
    "    model_type=\"regression\",\n",
    "    calibrate=calibrate,\n",
    "    estimator=sgd_reg,\n",
    "    kfold=kfold,\n",
    "    stratify_y=False,\n",
    "    grid=parameters_sgd,\n",
    "    randomized_grid=False,\n",
    "    impute=True,\n",
    "    # n_iter=3,\n",
    "    scoring=[\"r2\"],\n",
    "    # n_splits=2,\n",
    "    random_state=3,\n",
    ")\n",
    "model3.grid_search_param_tuning(X, y)\n",
    "\n",
    "\n",
    "X_train, y_train = model3.get_train_data(X, y)\n",
    "X_test, y_test = model3.get_test_data(X, y)\n",
    "X_valid, y_valid = model3.get_valid_data(X, y)\n",
    "\n",
    "model3.fit(X_train, y_train)\n",
    "\n",
    "print(\"Validation Metrics\")\n",
    "model3.return_metrics(X_valid, y_valid)\n",
    "print(\"Test Metrics\")\n",
    "model3.return_metrics(X_test, y_test)"
   ]
  },
  {
   "cell_type": "code",
   "execution_count": null,
   "metadata": {},
   "outputs": [],
   "source": [
    "model3.predict(X_test)"
   ]
  },
  {
   "cell_type": "markdown",
   "metadata": {},
   "source": [
    "## ElasticNet"
   ]
  },
  {
   "cell_type": "code",
   "execution_count": null,
   "metadata": {},
   "outputs": [],
   "source": [
    "elastic_net = ElasticNet(random_state=3)\n",
    "\n",
    "estimator_name = \"elasticnet\"\n",
    "# Set the parameters by cross-validation\n",
    "\n",
    "calibrate = False"
   ]
  },
  {
   "cell_type": "code",
   "execution_count": null,
   "metadata": {},
   "outputs": [],
   "source": [
    "elastic_net"
   ]
  },
  {
   "cell_type": "code",
   "execution_count": null,
   "metadata": {},
   "outputs": [],
   "source": [
    "# Define the set of hyperparameters to tune\n",
    "parameters_enet = [\n",
    "    {\n",
    "        \"elasticnet__alpha\": [0.01, 0.05, 0.1, 0.5],\n",
    "        \"elasticnet__l1_ratio\": [\n",
    "            0.1,\n",
    "            0.2,\n",
    "            0.3,\n",
    "        ],\n",
    "        \"elasticnet__fit_intercept\": [True, False],\n",
    "        \"elasticnet__precompute\": [False],\n",
    "        \"elasticnet__tol\": [1e-4, 1e-3],\n",
    "        \"elasticnet__warm_start\": [True, False],\n",
    "        \"elasticnet__positive\": [True, False],\n",
    "        \"elasticnet__selection\": [\n",
    "            \"cyclic\",\n",
    "            \"random\",\n",
    "        ],\n",
    "    }\n",
    "]"
   ]
  },
  {
   "cell_type": "code",
   "execution_count": null,
   "metadata": {},
   "outputs": [],
   "source": [
    "model4 = Model(\n",
    "    name=\"Redfin_model\",\n",
    "    estimator_name=estimator_name,\n",
    "    model_type=\"regression\",\n",
    "    calibrate=calibrate,\n",
    "    estimator=elastic_net,\n",
    "    kfold=True,\n",
    "    stratify_y=False,\n",
    "    grid=parameters_enet,\n",
    "    randomized_grid=False,\n",
    "    impute=True,\n",
    "    # n_iter=3,\n",
    "    scoring=[\"r2\"],\n",
    "    # n_splits=2,\n",
    "    random_state=3,\n",
    ")\n",
    "\n",
    "\n",
    "model4.grid_search_param_tuning(X, y)\n",
    "\n",
    "### If KFold then the whole dataset is fed to the\n",
    "### return metrics function\n",
    "model4.fit(X, y)\n",
    "model4.return_metrics(X, y)"
   ]
  },
  {
   "cell_type": "code",
   "execution_count": null,
   "metadata": {},
   "outputs": [],
   "source": [
    "# model4.kfold = False\n",
    "model4.predict(X_test)"
   ]
  },
  {
   "cell_type": "markdown",
   "metadata": {},
   "source": [
    "## XGBoost"
   ]
  },
  {
   "cell_type": "code",
   "execution_count": null,
   "metadata": {},
   "outputs": [],
   "source": [
    "xg_boost = XGBRegressor(random_state=3)\n",
    "\n",
    "estimator_name = \"xgb\"\n",
    "# Set the parameters by cross-validation\n",
    "\n",
    "kfold = False\n",
    "calibrate = False"
   ]
  },
  {
   "cell_type": "code",
   "execution_count": null,
   "metadata": {},
   "outputs": [],
   "source": [
    "xg_boost"
   ]
  },
  {
   "cell_type": "code",
   "execution_count": null,
   "metadata": {},
   "outputs": [],
   "source": [
    "# Define the hyperparameters for XGBoost\n",
    "xgb_learning_rates = [0.1, 0.01, 0.05][:1]  # Learning rate or eta\n",
    "xgb_n_estimators = [100, 200, 300][\n",
    "    :1\n",
    "]  # Number of trees. Equivalent to n_estimators in GB\n",
    "xgb_max_depths = [3, 5, 7][:1]  # Maximum depth of the trees\n",
    "xgb_subsamples = [0.8, 1.0][:1]  # Subsample ratio of the training instances\n",
    "xgb_colsample_bytree = [0.8, 1.0][:1]\n",
    "xgb_eval_metric = [\"logloss\"]\n",
    "xgb_early_stopping_rounds = [10]\n",
    "# xgb_tree_method = [\"gpu_hist\"]\n",
    "# early_stopping_mode = ['min']\n",
    "# early_stopping_patience = [5]\n",
    "xgb_verbose = [False]\n",
    "# Subsample ratio of columns when constructing each tree\n",
    "\n",
    "# Combining the hyperparameters in a dictionary\n",
    "xgb_parameters = [\n",
    "    {\n",
    "        \"xgb__learning_rate\": xgb_learning_rates,\n",
    "        \"xgb__n_estimators\": xgb_n_estimators,\n",
    "        \"xgb__max_depth\": xgb_max_depths,\n",
    "        \"xgb__subsample\": xgb_subsamples,\n",
    "        \"xgb__colsample_bytree\": xgb_colsample_bytree,\n",
    "        \"xgb__eval_metric\": xgb_eval_metric,\n",
    "        \"xgb__early_stopping_rounds\": xgb_early_stopping_rounds,\n",
    "        # 'xgb__early_stopping_patience': early_stopping_patience,\n",
    "        # \"xgb_tree_method\": xgb_tree_method,\n",
    "        \"xgb__verbose\": xgb_verbose,\n",
    "    }\n",
    "]"
   ]
  },
  {
   "cell_type": "code",
   "execution_count": null,
   "metadata": {},
   "outputs": [],
   "source": [
    "X = df[[\"BEDS\", \"BATHS\", \"SQUARE FEET\", \"LOT SIZE\"]]\n",
    "y = df[[\"PRICE\"]]"
   ]
  },
  {
   "cell_type": "code",
   "execution_count": null,
   "metadata": {},
   "outputs": [],
   "source": [
    "X = X.to_numpy()\n",
    "y = y.to_numpy()"
   ]
  },
  {
   "cell_type": "code",
   "execution_count": null,
   "metadata": {},
   "outputs": [],
   "source": [
    "model4 = Model(\n",
    "    name=\"Redfin_model\",\n",
    "    estimator_name=estimator_name,\n",
    "    model_type=\"regression\",\n",
    "    calibrate=calibrate,\n",
    "    estimator=xg_boost,\n",
    "    kfold=kfold,\n",
    "    stratify_y=False,\n",
    "    grid=xgb_parameters,\n",
    "    randomized_grid=False,\n",
    "    impute=True,\n",
    "    # n_iter=3,\n",
    "    scoring=[\"r2\"],\n",
    "    # n_splits=2,\n",
    "    random_state=3,\n",
    "    xgboost_early=True,\n",
    ")\n",
    "\n",
    "eval_set = [X, y]\n",
    "model4.grid_search_param_tuning(X, y)\n",
    "\n",
    "X_train, X_valid, X_test, y_train, y_valid, y_test = model4.train_val_test_split(\n",
    "    X,\n",
    "    y,\n",
    "    stratify_y=False,\n",
    "    stratify_cols=None,\n",
    "    train_size=0.6,\n",
    "    validation_size=0.2,\n",
    "    test_size=0.2,\n",
    "    calibrate=model4.calibrate,\n",
    "    random_state=model4.random_state,\n",
    ")\n",
    "\n",
    "model4.fit(X, y, validation_data=(X_valid, y_valid))"
   ]
  },
  {
   "cell_type": "code",
   "execution_count": null,
   "metadata": {},
   "outputs": [],
   "source": [
    "y"
   ]
  },
  {
   "cell_type": "code",
   "execution_count": null,
   "metadata": {},
   "outputs": [],
   "source": []
  }
 ],
 "metadata": {
  "kernelspec": {
   "display_name": "model_tuner",
   "language": "python",
   "name": "python3"
  },
  "language_info": {
   "codemirror_mode": {
    "name": "ipython",
    "version": 3
   },
   "file_extension": ".py",
   "mimetype": "text/x-python",
   "name": "python",
   "nbconvert_exporter": "python",
   "pygments_lexer": "ipython3",
   "version": "3.11.8"
  }
 },
 "nbformat": 4,
 "nbformat_minor": 2
}
