{
 "cells": [
  {
   "cell_type": "code",
   "execution_count": 1,
   "metadata": {},
   "outputs": [
    {
     "name": "stdout",
     "output_type": "stream",
     "text": [
      "This project uses Python 3.10.6.\n"
     ]
    }
   ],
   "source": [
    "import pandas as pd\n",
    "import numpy as np\n",
    "import sys\n",
    "import os\n",
    "\n",
    "from sklearn.metrics import r2_score, root_mean_squared_error\n",
    "from sklearn.model_selection import train_test_split\n",
    "from sklearn.linear_model import LinearRegression, Lasso\n",
    "\n",
    "# Add the parent directory to sys.path to access 'functions.py'\n",
    "sys.path.append(os.path.join(os.pardir))\n",
    "\n",
    "from functions import *  # import custom functions\n",
    "\n",
    "from model_tuner import *\n",
    "\n",
    "print(f\"This project uses Python {sys.version.split()[0]}.\")"
   ]
  },
  {
   "cell_type": "code",
   "execution_count": 2,
   "metadata": {},
   "outputs": [
    {
     "name": "stdout",
     "output_type": "stream",
     "text": [
      "Directory exists: ../data\n"
     ]
    }
   ],
   "source": [
    "# `base_path`` represents the parent directory of your current working directory\n",
    "base_path = os.path.join(os.pardir)\n",
    "\n",
    "# Go up one level from 'notebooks' to the parent directory, then into the 'data' folder\n",
    "data_path = os.path.join(\"../data\")\n",
    "\n",
    "# Use the function to ensure the 'data' directory exists\n",
    "ensure_directory(data_path)"
   ]
  },
  {
   "cell_type": "code",
   "execution_count": 3,
   "metadata": {},
   "outputs": [],
   "source": [
    "df = pd.read_csv(os.path.join(data_path, \"redfin_2024-04-16-15-59-17.csv\"))"
   ]
  },
  {
   "cell_type": "code",
   "execution_count": 4,
   "metadata": {},
   "outputs": [],
   "source": [
    "df = df.drop(df.index[0])"
   ]
  },
  {
   "cell_type": "code",
   "execution_count": 5,
   "metadata": {},
   "outputs": [],
   "source": [
    "X = df[[\"BEDS\", \"BATHS\", \"SQUARE FEET\", \"LOT SIZE\"]]\n",
    "y = df[[\"PRICE\"]]"
   ]
  },
  {
   "cell_type": "code",
   "execution_count": 6,
   "metadata": {},
   "outputs": [],
   "source": [
    "# Define the set of hyperparameters to tune\n",
    "parameters_lasso = [\n",
    "    {\n",
    "        \"lasso__alpha\": [0.01, 0.05, 0.1, 0.5, 1.0, 2.0, 5.0, 10.0],\n",
    "        \"lasso__fit_intercept\": [True, False],\n",
    "        \"lasso__precompute\": [False],\n",
    "        \"lasso__copy_X\": [True, False],\n",
    "        \"lasso__max_iter\": [100, 500],\n",
    "        \"lasso__tol\": [1e-4, 1e-3],\n",
    "        \"lasso__warm_start\": [True, False],\n",
    "        \"lasso__positive\": [True, False],\n",
    "    }\n",
    "]"
   ]
  },
  {
   "cell_type": "code",
   "execution_count": 7,
   "metadata": {},
   "outputs": [],
   "source": [
    "lasso_reg = Lasso()\n",
    "\n",
    "estimator_name = \"lasso\"\n",
    "# Set the parameters by cross-validation\n",
    "\n",
    "kfold = False\n",
    "calibrate = False"
   ]
  },
  {
   "cell_type": "code",
   "execution_count": 8,
   "metadata": {},
   "outputs": [],
   "source": [
    "model = Model(\n",
    "    name=\"Redfin_model\",\n",
    "    estimator_name=estimator_name,\n",
    "    model_type=\"regression\",\n",
    "    calibrate=calibrate,\n",
    "    estimator=lasso_reg,\n",
    "    kfold=kfold,\n",
    "    stratify=True,\n",
    "    grid=parameters_lasso,\n",
    "    randomized_grid=False,\n",
    "    impute=True,\n",
    "    # n_iter=3,\n",
    "    scoring=[\"r2\"],\n",
    "    # n_splits=2,\n",
    "    random_state=3,\n",
    ")\n",
    "\n",
    "# model.grid_search_param_tuning(X, y)\n",
    "\n",
    "model.fit(X, y)"
   ]
  },
  {
   "cell_type": "code",
   "execution_count": 9,
   "metadata": {},
   "outputs": [],
   "source": [
    "X_train, X_test, y_train, y_test = train_test_split(X, y, random_state=3)"
   ]
  },
  {
   "cell_type": "code",
   "execution_count": 10,
   "metadata": {},
   "outputs": [
    {
     "data": {
      "text/plain": [
       "array([13073989.11036093,  7316536.11193256, 40599243.53496064,\n",
       "        6454794.54892854, 15545972.68138833,  9255932.84106737,\n",
       "        4416296.35381776, 16018870.618109  ,  6929912.55485607,\n",
       "       12271101.92259133, 12100667.30777553, 30212601.9363673 ,\n",
       "         615832.16405754, 19123040.05301389,  8864882.96347097,\n",
       "       14906320.02822273,  6879201.97276068, 26852114.19526781,\n",
       "       14908818.89031851, 10752242.4944117 ,  2005738.66162506,\n",
       "         340292.33370156,   663332.6470173 , 17550442.06711074,\n",
       "        6303587.13109749,  8383795.74700374, 11644405.28702934,\n",
       "       13192922.31577393, 14951540.17813939, 23184039.7734936 ,\n",
       "        9822735.97060197, 14939681.80428924, 14830321.97089816,\n",
       "        2771165.52399362,  2895848.01298962, 14631234.18210411,\n",
       "        6495349.57561595, 13342721.12424324, 16373044.38092147,\n",
       "       68323516.63217366, 15073811.56867501, 20269106.81997997,\n",
       "       24658083.82715943, 14951373.32880565,  9464559.76205897,\n",
       "        9125608.20495271, 41305571.95464298, 14834479.33885361,\n",
       "         685774.33605714,   223750.12896193])"
      ]
     },
     "execution_count": 10,
     "metadata": {},
     "output_type": "execute_result"
    }
   ],
   "source": [
    "model.predict(X_test)"
   ]
  }
 ],
 "metadata": {
  "kernelspec": {
   "display_name": "model_tuner",
   "language": "python",
   "name": "python3"
  },
  "language_info": {
   "codemirror_mode": {
    "name": "ipython",
    "version": 3
   },
   "file_extension": ".py",
   "mimetype": "text/x-python",
   "name": "python",
   "nbconvert_exporter": "python",
   "pygments_lexer": "ipython3",
   "version": "3.10.6"
  }
 },
 "nbformat": 4,
 "nbformat_minor": 2
}
